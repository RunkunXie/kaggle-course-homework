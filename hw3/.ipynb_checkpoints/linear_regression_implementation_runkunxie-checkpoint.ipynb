{
 "cells": [
  {
   "cell_type": "markdown",
   "metadata": {},
   "source": [
    "作业： 实现线性回归的代码，发布到各人Github\n",
    "\n",
    "选作：\n",
    "1. 收敛条件的判断\n",
    "2. 学习率的选择\n",
    "3. 类的形式"
   ]
  },
  {
   "cell_type": "markdown",
   "metadata": {},
   "source": [
    "# Homework 3 Linear Regression Implementation"
   ]
  },
  {
   "cell_type": "code",
   "execution_count": 25,
   "metadata": {},
   "outputs": [],
   "source": [
    "import numpy as np\n",
    "import pandas as pd\n",
    "import matplotlib.pyplot as plt"
   ]
  },
  {
   "cell_type": "code",
   "execution_count": 9,
   "metadata": {},
   "outputs": [],
   "source": [
    "data = pd.read_csv('height_train.csv')\n",
    "data['constant'] = 1\n",
    "x_train = data.loc[:,['father_height','mother_height','boy_dummy','constant']].values\n",
    "y_train = data.child_height.values"
   ]
  },
  {
   "cell_type": "markdown",
   "metadata": {},
   "source": [
    "1. coef from sklearn linear regression"
   ]
  },
  {
   "cell_type": "code",
   "execution_count": 35,
   "metadata": {},
   "outputs": [
    {
     "name": "stdout",
     "output_type": "stream",
     "text": [
      "beta =  [0.23959427 0.25013358 0.10030806 0.82742996]\n"
     ]
    }
   ],
   "source": [
    "from sklearn.linear_model import LinearRegression\n",
    "\n",
    "clf = LinearRegression(fit_intercept=False)\n",
    "clf.fit(x_train, y_train)\n",
    "\n",
    "print(\"beta = \", clf.coef_)"
   ]
  },
  {
   "cell_type": "markdown",
   "metadata": {},
   "source": [
    "2. coef from self-implemented linear regression"
   ]
  },
  {
   "cell_type": "code",
   "execution_count": 61,
   "metadata": {},
   "outputs": [],
   "source": [
    "X=x_train\n",
    "y=y_train\n",
    "n_features = X.shape[1]\n",
    "beta = np.array( [0.23959427, 0.25013358, 0.10030806, 0.82742996])\n",
    "epsilon = y - np.dot(X, beta)\n",
    "gradient = np.mean(epsilon.reshape((-1, 1)) * X, axis=0)"
   ]
  },
  {
   "cell_type": "code",
   "execution_count": 22,
   "metadata": {},
   "outputs": [],
   "source": [
    "def my_linear_regression(X,y,alpha,n_rounds):\n",
    "    n_features = X.shape[1]\n",
    "    beta = np.array([0.0]*n_features)\n",
    "    loss = []\n",
    "    for i in range(n_rounds):\n",
    "        \n",
    "        #计算 epsilon\n",
    "        epsilon = y\n",
    "        for j in range(n_features):\n",
    "            epsilon = epsilon - beta[j]*X[:,j]\n",
    "            \n",
    "        #更新 beta\n",
    "        for j in range(n_features):\n",
    "            gradient = -np.mean(epsilon*X[:,j])\n",
    "            beta[j] = beta[j] - alpha*gradient\n",
    "    \n",
    "        loss.append(np.sum(epsilon**2))\n",
    "        \n",
    "    return beta, loss"
   ]
  },
  {
   "cell_type": "code",
   "execution_count": 63,
   "metadata": {},
   "outputs": [],
   "source": [
    "def my_linear_regression_vectorized(X,y,alpha,n_rounds):\n",
    "    n_features = X.shape[1]\n",
    "    beta = np.array([0.0]*n_features)\n",
    "    loss = []\n",
    "    for i in range(n_rounds):\n",
    "        \n",
    "        #compute epsilon\n",
    "        epsilon = y - np.dot(X, beta)\n",
    "            \n",
    "        #update beta\n",
    "        gradient = - np.mean(epsilon.reshape((-1, 1)) * X, axis=0)\n",
    "        beta -= alpha*gradient\n",
    "        \n",
    "        loss.append(np.sum(epsilon**2))\n",
    "        \n",
    "    return beta, loss"
   ]
  },
  {
   "cell_type": "code",
   "execution_count": 70,
   "metadata": {},
   "outputs": [],
   "source": [
    "beta, loss = my_linear_regression_vectorized(X=x_train, y=y_train, alpha=0.05, n_rounds=200000)"
   ]
  },
  {
   "cell_type": "code",
   "execution_count": 71,
   "metadata": {},
   "outputs": [
    {
     "name": "stdout",
     "output_type": "stream",
     "text": [
      "beta =  [0.24430816 0.25516192 0.10030543 0.81107535]\n",
      "difference =  [4.71389072e-03 5.02834366e-03 2.63445797e-06 1.63546186e-02]\n"
     ]
    }
   ],
   "source": [
    "print(\"beta = \", beta)\n",
    "print(\"difference = \", np.abs(beta - clf.coef_))"
   ]
  },
  {
   "cell_type": "code",
   "execution_count": 72,
   "metadata": {},
   "outputs": [
    {
     "data": {
      "text/plain": [
       "[<matplotlib.lines.Line2D at 0x1a22cb9320>]"
      ]
     },
     "execution_count": 72,
     "metadata": {},
     "output_type": "execute_result"
    },
    {
     "data": {
      "image/png": "[encoded data removed]",
      "text/plain": [
       "<Figure size 432x288 with 1 Axes>"
      ]
     },
     "metadata": {
      "needs_background": "light"
     },
     "output_type": "display_data"
    }
   ],
   "source": [
    "plt.plot(loss[2000:])"
   ]
  },
  {
   "cell_type": "code",
   "execution_count": null,
   "metadata": {},
   "outputs": [],
   "source": []
  }
 ],
 "metadata": {
  "kernelspec": {
   "display_name": "Python 3",
   "language": "python",
   "name": "python3"
  },
  "language_info": {
   "codemirror_mode": {
    "name": "ipython",
    "version": 3
   },
   "file_extension": ".py",
   "mimetype": "text/x-python",
   "name": "python",
   "nbconvert_exporter": "python",
   "pygments_lexer": "ipython3",
   "version": "3.7.1"
  }
 },
 "nbformat": 4,
 "nbformat_minor": 2
}
